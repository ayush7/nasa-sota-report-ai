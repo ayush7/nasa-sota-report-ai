{
 "cells": [
  {
   "cell_type": "code",
   "execution_count": 10,
   "metadata": {},
   "outputs": [],
   "source": [
    "import os\n",
    "from langchain_community.document_loaders import PyPDFLoader\n",
    "from langchain.text_splitter import RecursiveCharacterTextSplitter\n",
    "from langchain_community.embeddings import HuggingFaceEmbeddings\n",
    "from langchain_community.vectorstores import Chroma\n",
    "from langchain_openai import ChatOpenAI\n",
    "from langchain.chains import RetrievalQA\n",
    "from langchain_community.llms import Ollama\n",
    "from langchain.prompts import PromptTemplate  # Added this import\n",
    "\n",
    "import key\n",
    "from dotenv import load_dotenv\n"
   ]
  },
  {
   "cell_type": "code",
   "execution_count": 11,
   "metadata": {},
   "outputs": [],
   "source": [
    "\n",
    "## Load environment variables (for OpenAI API key)\n",
    "load_dotenv()\n",
    "\n",
    "def process_pdfs(pdf_directory):\n",
    "    print(\"Processing PDFs...\")\n",
    "    \"\"\"Process all PDFs in the specified directory and create a vector store.\"\"\"\n",
    "    documents = []\n",
    "    \n",
    "    # Load all PDFs from the directory\n",
    "    for file in os.listdir(pdf_directory):\n",
    "        if file.endswith('.pdf'):\n",
    "            print(f\"Processing {file}...\")\n",
    "            pdf_path = os.path.join(pdf_directory, file)\n",
    "            loader = PyPDFLoader(pdf_path)\n",
    "            documents.extend(loader.load())\n",
    "    \n",
    "    # Split documents into chunks\n",
    "    text_splitter = RecursiveCharacterTextSplitter(\n",
    "        chunk_size=8000,\n",
    "        chunk_overlap=200,\n",
    "        length_function=len\n",
    "    )\n",
    "    splits = text_splitter.split_documents(documents)\n",
    "    \n",
    "    # Create embeddings\n",
    "    embeddings = HuggingFaceEmbeddings(\n",
    "        model_name=\"sentence-transformers/all-mpnet-base-v2\"\n",
    "    )\n",
    "    \n",
    "    # Create and persist vector store\n",
    "    vectorstore = Chroma.from_documents(\n",
    "        documents=splits,\n",
    "        embedding=embeddings,\n",
    "        persist_directory=\"./chroma_db\"\n",
    "    )\n",
    "    \n",
    "    return vectorstore\n",
    "\n"
   ]
  },
  {
   "cell_type": "code",
   "execution_count": 12,
   "metadata": {},
   "outputs": [],
   "source": [
    "def create_qa_chain_openai(vectorstore, key):\n",
    "    \"\"\"Create a question-answering chain using the vector store.\"\"\"\n",
    "    # Initialize language model\n",
    "    llm = ChatOpenAI(api_key=key,temperature=0)\n",
    "    print(\"Querying the vector store...\")\n",
    "    \n",
    "    # Create retrieval chain\n",
    "    qa_chain = RetrievalQA.from_chain_type(\n",
    "        llm=llm,\n",
    "        chain_type=\"stuff\",\n",
    "        retriever=vectorstore.as_retriever(search_kwargs={\"k\": 10}),\n",
    "        return_source_documents=True\n",
    "    )\n",
    "    \n",
    "    return qa_chain"
   ]
  },
  {
   "cell_type": "code",
   "execution_count": 13,
   "metadata": {},
   "outputs": [],
   "source": [
    "def create_qa_chain(vectorstore):\n",
    "    \"\"\"Create a question-answering chain using the vector store.\"\"\"\n",
    "    # Initialize local Gemma model through Ollama\n",
    "    llm = Ollama(\n",
    "        model=\"gemma2b\",\n",
    "        temperature=0.1,\n",
    "        top_k=10,\n",
    "        num_ctx=16000  # Context window size,\n",
    "        \n",
    "    )\n",
    "    \n",
    "    # Create retrieval chain with custom prompt\n",
    "    qa_chain = RetrievalQA.from_chain_type(\n",
    "        llm=llm,\n",
    "        chain_type=\"stuff\",\n",
    "        retriever=vectorstore.as_retriever(search_kwargs={\"k\": 3}),\n",
    "        return_source_documents=True,\n",
    "        chain_type_kwargs={\n",
    "            \"prompt\": PromptTemplate(\n",
    "                template=\"\"\"You are a helpful AI assistant. Use the following pieces of context to answer the question at the end. \n",
    "                If you don't know the answer, just say that you don't know. Don't try to make up an answer.\n",
    "\n",
    "                Context: {context}\n",
    "\n",
    "                Question: {question}\n",
    "\n",
    "                Answer:\"\"\",\n",
    "                input_variables=[\"context\", \"question\"]\n",
    "            )\n",
    "        }\n",
    "    )\n",
    "    \n",
    "    return qa_chain"
   ]
  },
  {
   "cell_type": "code",
   "execution_count": 14,
   "metadata": {},
   "outputs": [
    {
     "name": "stdout",
     "output_type": "stream",
     "text": [
      "Processing PDFs...\n",
      "Processing state of the art small spacecraft.pdf...\n"
     ]
    }
   ],
   "source": [
    "# Directory containing PDF files\n",
    "pdf_dir = \"./pdf_documents\"\n",
    "\n",
    "# Process PDFs and create vector store\n",
    "vectorstore = process_pdfs(pdf_dir)\n",
    "\n"
   ]
  },
  {
   "cell_type": "code",
   "execution_count": 15,
   "metadata": {},
   "outputs": [
    {
     "name": "stdout",
     "output_type": "stream",
     "text": [
      "Querying the vector store...\n",
      "Query: What is ESPA class satellite? What is the peak power range in watts and which satellite has the highest peak power? Can you write a report on it?\n",
      "Answer: An ESPA-class satellite refers to a type of satellite that utilizes the Evolved Expendable Launch Vehicle (EELV) Secondary Payload Adapter (SPA) or similar configurations. The ESPA ring, which is a key component of ESPA-class satellites, allows for the separation of the primary payload from the upper stage of the launch vehicle, enabling additional mounting allocations for secondary payloads. These secondary payloads can be mounted on the ESPA ring, providing opportunities for rideshare missions. ESPA-class satellites are designed to accommodate secondary payloads with masses typically under 500 kg, although some variants of the ESPA ring can support higher masses.\n",
      "\n",
      "In terms of peak power range in watts, ESPA-class satellites have a variety of power outputs depending on the specific satellite. The peak power output can range from as low as 80 watts to as high as 4,500 watts. Among the satellites listed in the provided information, the satellite with the highest peak power output is the CesiumAstro satellite from the United States, which has a peak power output of 4,500 watts.\n",
      "\n",
      "**Report on ESPA-Class Satellites:**\n",
      "\n",
      "Title: Exploring ESPA-Class Satellites: A Comprehensive Overview\n",
      "\n",
      "Introduction:\n",
      "ESPAClass satellites represent a versatile category of satellites that leverage the Evolved Expendable Launch Vehicle (EELV) Secondary Payload Adapter (SPA) or similar configurations. These satellites are designed to accommodate secondary payloads, providing opportunities for rideshare missions and enabling cost-effective access to space for smaller payloads.\n",
      "\n",
      "Key Features of ESPA-Class Satellites:\n",
      "1. ESPA Ring: The ESPA ring is a critical component of ESPA-class satellites, facilitating the separation of primary and secondary payloads.\n",
      "2. Secondary Payload Mounting: ESPA-class satellites allow for additional mounting allocations for secondary payloads, enhancing the flexibility of launch missions.\n",
      "3. Mass and Volume Adaptability: While ESPA-class satellites typically support secondary payloads under 500 kg, some variants can accommodate higher masses, making them adaptable to various rideshare opportunities.\n",
      "\n",
      "Peak Power Range and Notable Satellites:\n",
      "- The peak power output of ESPA-class satellites varies, ranging from 80 watts to 4,500 watts.\n",
      "- Among the listed satellites, the CesiumAstro satellite from the United States stands out with a peak power output of 4,500 watts, showcasing its robust power capabilities.\n",
      "\n",
      "Conclusion:\n",
      "ESPAClass satellites play a crucial role in expanding access to space for secondary payloads and rideshare opportunities. With their innovative design and adaptability, these satellites offer a cost-effective solution for launching smaller payloads into space. The diverse range of power outputs and capabilities of ESPA-class satellites make them a valuable asset in the realm of satellite technology.\n",
      "\n",
      "This report provides an overview of ESPA-class satellites, highlighting their key features, peak power ranges, and notable satellites within this category.\n",
      "\n",
      "Source Documents:\n",
      "- ./pdf_documents\\state of the art small spacecraft.pdf, Page 35\n",
      "- ./pdf_documents\\state of the art small spacecraft.pdf, Page 35\n",
      "- ./pdf_documents\\state of the art small spacecraft.pdf, Page 67\n",
      "- ./pdf_documents\\state of the art small spacecraft.pdf, Page 67\n",
      "- ./pdf_documents\\state of the art small spacecraft.pdf, Page 73\n",
      "- ./pdf_documents\\state of the art small spacecraft.pdf, Page 37\n",
      "- ./pdf_documents\\state of the art small spacecraft.pdf, Page 37\n",
      "- ./pdf_documents\\state of the art small spacecraft.pdf, Page 66\n",
      "- ./pdf_documents\\state of the art small spacecraft.pdf, Page 66\n",
      "- ./pdf_documents\\state of the art small spacecraft.pdf, Page 33\n"
     ]
    }
   ],
   "source": [
    "# Load vector Store\n",
    "#\n",
    "embeddings = HuggingFaceEmbeddings(\n",
    "        model_name=\"sentence-transformers/all-mpnet-base-v2\"\n",
    "    ) \n",
    "vectorstore = Chroma(persist_directory=\"./chroma_db\", embedding_function=embeddings)\n",
    "\n",
    "\n",
    "# Create QA chain\n",
    "api_key = key.api_key\n",
    "qa_chain = create_qa_chain_openai(vectorstore, api_key)\n",
    "# qa_chain = create_qa_chain_openai(vectorstore)\n",
    "\n",
    "# Example query\n",
    "query = \"What is ESPA class satellite? What is the peak power range in watts and which satellite has the highest peak power? Can you write a report on it?\"\n",
    "result = qa_chain({\"query\": query})\n",
    "print(\"Query:\", query)\n",
    "\n",
    "print(\"Answer:\", result[\"result\"])\n",
    "print(\"\\nSource Documents:\")\n",
    "for doc in result[\"source_documents\"]:\n",
    "    print(f\"- {doc.metadata['source']}, Page {doc.metadata['page']}\")"
   ]
  },
  {
   "cell_type": "code",
   "execution_count": 16,
   "metadata": {},
   "outputs": [
    {
     "data": {
      "text/plain": [
       "{'query': 'What is ESPA class satellite? What is the peak power range in watts and which satellite has the highest peak power? Can you write a report on it?',\n",
       " 'result': 'An ESPA-class satellite refers to a type of satellite that utilizes the Evolved Expendable Launch Vehicle (EELV) Secondary Payload Adapter (SPA) or similar configurations. The ESPA ring, which is a key component of ESPA-class satellites, allows for the separation of the primary payload from the upper stage of the launch vehicle, enabling additional mounting allocations for secondary payloads. These secondary payloads can be mounted on the ESPA ring, providing opportunities for rideshare missions. ESPA-class satellites are designed to accommodate secondary payloads with masses typically under 500 kg, although some variants of the ESPA ring can support higher masses.\\n\\nIn terms of peak power range in watts, ESPA-class satellites have a variety of power outputs depending on the specific satellite. The peak power output can range from as low as 80 watts to as high as 4,500 watts. Among the satellites listed in the provided information, the satellite with the highest peak power output is the CesiumAstro satellite from the United States, which has a peak power output of 4,500 watts.\\n\\n**Report on ESPA-Class Satellites:**\\n\\nTitle: Exploring ESPA-Class Satellites: A Comprehensive Overview\\n\\nIntroduction:\\nESPAClass satellites represent a versatile category of satellites that leverage the Evolved Expendable Launch Vehicle (EELV) Secondary Payload Adapter (SPA) or similar configurations. These satellites are designed to accommodate secondary payloads, providing opportunities for rideshare missions and enabling cost-effective access to space for smaller payloads.\\n\\nKey Features of ESPA-Class Satellites:\\n1. ESPA Ring: The ESPA ring is a critical component of ESPA-class satellites, facilitating the separation of primary and secondary payloads.\\n2. Secondary Payload Mounting: ESPA-class satellites allow for additional mounting allocations for secondary payloads, enhancing the flexibility of launch missions.\\n3. Mass and Volume Adaptability: While ESPA-class satellites typically support secondary payloads under 500 kg, some variants can accommodate higher masses, making them adaptable to various rideshare opportunities.\\n\\nPeak Power Range and Notable Satellites:\\n- The peak power output of ESPA-class satellites varies, ranging from 80 watts to 4,500 watts.\\n- Among the listed satellites, the CesiumAstro satellite from the United States stands out with a peak power output of 4,500 watts, showcasing its robust power capabilities.\\n\\nConclusion:\\nESPAClass satellites play a crucial role in expanding access to space for secondary payloads and rideshare opportunities. With their innovative design and adaptability, these satellites offer a cost-effective solution for launching smaller payloads into space. The diverse range of power outputs and capabilities of ESPA-class satellites make them a valuable asset in the realm of satellite technology.\\n\\nThis report provides an overview of ESPA-class satellites, highlighting their key features, peak power ranges, and notable satellites within this category.',\n",
       " 'source_documents': [Document(metadata={'page': 35, 'source': './pdf_documents\\\\state of the art small spacecraft.pdf'}, page_content='22 \\nNational Aeronautics and Space Administration \\n2.2.2.2 ESPA-Class  \\nThe term ESPA -class refers to the Evolved Expendable Launch Vehicle (EELV) Secondary \\nPayload Adapter (SPA) or similar configurations. The ESPA ring typically separates the primary \\npayload with the upper stage of the launch vehicle, permitting additional mounting allocations for \\nsecondary payloads. Multiple rings can be stacked without a primary payload on the top to launch \\nmultiple payloads. \\nFor this document, the ESPA -class table 2-8 includes options that may not be designed for the \\nESPA ring, but its mass and volume permit adaptability to rideshare opportunities. The information \\nin this chapter is limited to offerings with mass under 500 kg even though some variants of the \\nESPA ring can support higher mass. Variants of the ESPA ring include,  but are not limited to,  \\nESPA-Heavy and ESPA-Grande. Examples of ESPA Rideshare are provided in figures 2.10 and \\n2.11, while figure 2.12 shows an example for an ESPA satellite from Muon Space. \\n \\n \\nFigure 2. 11: LandSat-9 ESPA Ring p opulated with \\npayloads and mass b allasts. Credit: NASA/Randy \\nBeaudoin. \\nFigure 2.10 : Example mission \\nconfiguration using Rideshare \\nPlates. Credit: SpaceX.'),\n",
       "  Document(metadata={'page': 35, 'source': './pdf_documents\\\\state of the art small spacecraft.pdf'}, page_content='22 \\nNational Aeronautics and Space Administration \\n2.2.2.2 ESPA-Class  \\nThe term ESPA -class refers to the Evolved Expendable Launch Vehicle (EELV) Secondary \\nPayload Adapter (SPA) or similar configurations. The ESPA ring typically separates the primary \\npayload with the upper stage of the launch vehicle, permitting additional mounting allocations for \\nsecondary payloads. Multiple rings can be stacked without a primary payload on the top to launch \\nmultiple payloads. \\nFor this document, the ESPA -class table 2-8 includes options that may not be designed for the \\nESPA ring, but its mass and volume permit adaptability to rideshare opportunities. The information \\nin this chapter is limited to offerings with mass under 500 kg even though some variants of the \\nESPA ring can support higher mass. Variants of the ESPA ring include,  but are not limited to,  \\nESPA-Heavy and ESPA-Grande. Examples of ESPA Rideshare are provided in figures 2.10 and \\n2.11, while figure 2.12 shows an example for an ESPA satellite from Muon Space. \\n \\n \\nFigure 2. 11: LandSat-9 ESPA Ring p opulated with \\npayloads and mass b allasts. Credit: NASA/Randy \\nBeaudoin. \\nFigure 2.10 : Example mission \\nconfiguration using Rideshare \\nPlates. Credit: SpaceX.'),\n",
       "  Document(metadata={'page': 67, 'source': './pdf_documents\\\\state of the art small spacecraft.pdf'}, page_content='National Aeronautics and Space Administration \\nEnduroSat Bulgaria \\nEPS II 1.280 742 250 10-36 3.3 / 5 / 6-12 / \\nBatt 89 9 (81) \\nEPS III 1-3 kg 860\\n-4000 1152 0\\n-45 3.3 / 5 / 12 / 28 / \\nBatt 87 6 -\\nGomSpace Germany \\nP31U 0.100 127 30 0-8 3.3 / 5 96 9 (75) \\nP60 ** ** 100 16/32 V 3.3/5/8/12/18/ 24 Refer to \\ndatasheet - -\\nP80 360-\\n610g ¥ \\n350 – \\n586 300 0-25 3. 3/5/12/18V & \\nVbat \\nRefer to \\ndatasheet - -\\nGUMUSH AeroSpace\\nIstanbul n-ART EPS 0. 098 160 100 4.5-30 3.3 / 5 / 8-36 / \\nBatt 94 6 \\nIbeos USA \\n150W CubeSat \\nEPS 0.140 124 150 18-42 3.3 / 5 / 12 / \\nUnreg Batt 95 8 (84) \\n200W, 28V \\nCubeSat EPS 0.14 124 200 12-34 3.3 / 5 / 12/ \\nUnreg Batt 96 8 -\\nModular EPS \\n(500W – \\n2,000W) \\nStartin \\ng at <1 \\nStarting \\nat 1150 500 – 2,000 12-26 5 / 12 / Unreg \\nBatt 98 6 -\\nISISPACE The \\nNetherlands iEPS Type C 0.360 14.13 13 12.8-16 3.3 / 5 / Unreg 95 9 (76) \\nNanoavionics Lithuania CubeSat EPS * * 175 2.6-18 3.3 / 5 / 3-18 96 N/A (85) \\nPumpkin Space \\nSystems USA \\nEPSM 1 0.300 180 300 4-32 3.3-28 99.0 9 (71) \\nAMPS 1.3 360 1200 5-32 3.3-28 99 9 -\\nSkyLabs Slovenia SKY-NANOeps-\\nPCDU-23c-5d 0.2 216.125 72 10V \\nUnreg \\n3V3, 5V, 12V, \\n10V Unreg. 99% 9 (99), \\n(100) \\nSpace Dynamics \\nLaboratory USA PMU 7 6480 1000 30-50 3. 3, 5, 12, 28 97 5 -\\nSpacemanic Slovakia AMUN_PSU 0.2 173 50 ~8V 3.3-5V 80 9 (101) \\n(102) \\n* A vailable with inquiry to manufacturer\\n** Configuration dependent\\n† Standard Configuration\\n⁑ Optional radiation shielding case\\n¥Flexible stacking options Standard options\\n52'),\n",
       "  Document(metadata={'page': 67, 'source': './pdf_documents\\\\state of the art small spacecraft.pdf'}, page_content='National Aeronautics and Space Administration \\nEnduroSat Bulgaria \\nEPS II 1.280 742 250 10-36 3.3 / 5 / 6-12 / \\nBatt 89 9 (81) \\nEPS III 1-3 kg 860\\n-4000 1152 0\\n-45 3.3 / 5 / 12 / 28 / \\nBatt 87 6 -\\nGomSpace Germany \\nP31U 0.100 127 30 0-8 3.3 / 5 96 9 (75) \\nP60 ** ** 100 16/32 V 3.3/5/8/12/18/ 24 Refer to \\ndatasheet - -\\nP80 360-\\n610g ¥ \\n350 – \\n586 300 0-25 3. 3/5/12/18V & \\nVbat \\nRefer to \\ndatasheet - -\\nGUMUSH AeroSpace\\nIstanbul n-ART EPS 0. 098 160 100 4.5-30 3.3 / 5 / 8-36 / \\nBatt 94 6 \\nIbeos USA \\n150W CubeSat \\nEPS 0.140 124 150 18-42 3.3 / 5 / 12 / \\nUnreg Batt 95 8 (84) \\n200W, 28V \\nCubeSat EPS 0.14 124 200 12-34 3.3 / 5 / 12/ \\nUnreg Batt 96 8 -\\nModular EPS \\n(500W – \\n2,000W) \\nStartin \\ng at <1 \\nStarting \\nat 1150 500 – 2,000 12-26 5 / 12 / Unreg \\nBatt 98 6 -\\nISISPACE The \\nNetherlands iEPS Type C 0.360 14.13 13 12.8-16 3.3 / 5 / Unreg 95 9 (76) \\nNanoavionics Lithuania CubeSat EPS * * 175 2.6-18 3.3 / 5 / 3-18 96 N/A (85) \\nPumpkin Space \\nSystems USA \\nEPSM 1 0.300 180 300 4-32 3.3-28 99.0 9 (71) \\nAMPS 1.3 360 1200 5-32 3.3-28 99 9 -\\nSkyLabs Slovenia SKY-NANOeps-\\nPCDU-23c-5d 0.2 216.125 72 10V \\nUnreg \\n3V3, 5V, 12V, \\n10V Unreg. 99% 9 (99), \\n(100) \\nSpace Dynamics \\nLaboratory USA PMU 7 6480 1000 30-50 3. 3, 5, 12, 28 97 5 -\\nSpacemanic Slovakia AMUN_PSU 0.2 173 50 ~8V 3.3-5V 80 9 (101) \\n(102) \\n* A vailable with inquiry to manufacturer\\n** Configuration dependent\\n† Standard Configuration\\n⁑ Optional radiation shielding case\\n¥Flexible stacking options Standard options\\n52'),\n",
       "  Document(metadata={'page': 73, 'source': './pdf_documents\\\\state of the art small spacecraft.pdf'}, page_content='(77)  DHV Technology . “Electrical Power Systems.” [Online]  Available at: \\nhttps://dhvtechnology.com/products/electrical-power-systems/ \\n(78) Extreme Engineering Solutions: “XPm2020.” [Online] 2021. Accessed: July 20, 2021.  \\nAvailable at:   https://www.xes-inc.com/products/end-of-life-power-supplies/xpm2020/ \\n(79) EnduroSat. EPS I . [Online] Available at:  https://www.endurosat.com/cubesat-\\nstore/cubesat-power-modules/eps-power-module/ \\n(80) EnduroSat. EPS I Plus . [Online] Available at:  https://www.endurosat.com/cubesat-\\nstore/cubesat-power-modules/eps-power-module-i-plus/ \\n(81) EnduroSat. EPS II + Battery Pack . [Online] Available at:  \\nhttps://www.endurosat.com/cubesat-store/cubesat-power-modules/eps-power-module-ii/ \\n(82) Ecarver GmbH: “ Battery BP3-SN.” [Online] Accessed:  July 18, 2021. Available at:   \\nhttps://satellite-power-systems.de/products.html \\n(83) Berlin Space Technologies. “Power Control Unit PCU -110.” [Online]. Accessed: July 19, \\n2021. https://www.berlin-space-tech.com/portfolio/powercontrolunit-pcu-110/ \\n(84) Ibeos. Datasheet, “150-Watt SmallSat Electric Power Subsystem (EPS) .” [Online] 2019. \\nAvailable at”: https://www.ibeos.com/150w-eps-datasheet'),\n",
       "  Document(metadata={'page': 37, 'source': './pdf_documents\\\\state of the art small spacecraft.pdf'}, page_content='24 \\nNational Aeronautics and Space Administration \\n(The fields indicate maximum capability; \\nTable 2-8: ESPA-Class Market Solutions \\norganizations may offer multiple options including smaller capabilities within the ESPA-Class category) \\nOrganization \\nPeak \\nPower \\n(W) \\n3-σ Pointing \\nControl/ \\nKnowledge \\nComm Options Intended \\nDestination Maturity US \\nOffice \\nAirbus US Space & DefenseUSA 2,200 0.3°/0.3° S, Ka, Optical LEO Flown LEO Yes \\nArgotec Italy 250 <0.005° UHF, S, X, K LEO Under Development Yes \\nArtemis Space Technologies UK 1,250 0.01°/0.01° UHF, \\nKu, \\nS, X, Ka, \\nOptical \\nLEO, \\nLunar, \\nMEO, GEO, \\nDeep Space \\nQualified LEO, MEO, \\nGEO, Lunar and Deep \\nSpace \\nNo \\nAstranis Space Technologies \\nUSACorp.  2,500 <0.1°/<0.01° MIL-Ka, Ka, \\nQ, V, X \\nKu, MEO, GEO, Cislunar, \\nDeep Space, Polar, \\nHigh Inclination \\nFlown GEO Yes \\nAstro Digital USA 2,000 <0.05°/<0.01° UHF, \\nKa, V, \\nS, \\nW, \\nX, Ku, \\nOptical \\nLEO, GEO,  \\nDeep Space Flown LEO Yes \\nBall Aerospace USA 1,000 <0.007°/<0.006° L, S, X, Ka LEO, MEO, GEO, \\nDeep Space Flown LEO Yes \\nBerlin Space Technologies Germany 3,000 <0.017°/<0.017° UHF, S, X LEO Flown LEO Yes \\nBlue Canyon Technologies USA 1,082 0.0025°/0.0025° L, S, X LEO, GEO, \\nSpace \\nDeep Flown LEO and GEO \\nQualified Deep Space Yes \\nBradford Space USA 1,500 1.5°/0.006° S, K \\nLEO, GEO, GTO, \\nCislunar, Lunar, Deep \\nSpace \\nUnder Development Yes \\nCesiumAstro USA 4,500 <0.1°/<0.01° S, L, Ku, Ka, \\nOptical LEO Under Development Yes \\nEnduroSat Bulgaria 170 0.1°/<0.05° UHF, S, X, K LEO Under Development Yes \\nGeneral Atomics EMS USA 450 0.03°/0.02° S, X LEO Qualified LEO Yes \\nHemeria France 250 <0.03°/<0.01° S, X LEO, GEO, GTO Flown LEO \\nQualified GEO and GTO No \\nLeoStella USA 2,000 0.013°/0.009° UHF, S, X LEO Flown LEO Yes \\nLockheed Martin USA 500+ <0.1°/<0.1° S, X, Ka LEO, GEO, Lunar, \\nDeep Space Flown LEO Yes'),\n",
       "  Document(metadata={'page': 37, 'source': './pdf_documents\\\\state of the art small spacecraft.pdf'}, page_content='24 \\nNational Aeronautics and Space Administration \\n(The fields indicate maximum capability; \\nTable 2-8: ESPA-Class Market Solutions \\norganizations may offer multiple options including smaller capabilities within the ESPA-Class category) \\nOrganization \\nPeak \\nPower \\n(W) \\n3-σ Pointing \\nControl/ \\nKnowledge \\nComm Options Intended \\nDestination Maturity US \\nOffice \\nAirbus US Space & DefenseUSA 2,200 0.3°/0.3° S, Ka, Optical LEO Flown LEO Yes \\nArgotec Italy 250 <0.005° UHF, S, X, K LEO Under Development Yes \\nArtemis Space Technologies UK 1,250 0.01°/0.01° UHF, \\nKu, \\nS, X, Ka, \\nOptical \\nLEO, \\nLunar, \\nMEO, GEO, \\nDeep Space \\nQualified LEO, MEO, \\nGEO, Lunar and Deep \\nSpace \\nNo \\nAstranis Space Technologies \\nUSACorp.  2,500 <0.1°/<0.01° MIL-Ka, Ka, \\nQ, V, X \\nKu, MEO, GEO, Cislunar, \\nDeep Space, Polar, \\nHigh Inclination \\nFlown GEO Yes \\nAstro Digital USA 2,000 <0.05°/<0.01° UHF, \\nKa, V, \\nS, \\nW, \\nX, Ku, \\nOptical \\nLEO, GEO,  \\nDeep Space Flown LEO Yes \\nBall Aerospace USA 1,000 <0.007°/<0.006° L, S, X, Ka LEO, MEO, GEO, \\nDeep Space Flown LEO Yes \\nBerlin Space Technologies Germany 3,000 <0.017°/<0.017° UHF, S, X LEO Flown LEO Yes \\nBlue Canyon Technologies USA 1,082 0.0025°/0.0025° L, S, X LEO, GEO, \\nSpace \\nDeep Flown LEO and GEO \\nQualified Deep Space Yes \\nBradford Space USA 1,500 1.5°/0.006° S, K \\nLEO, GEO, GTO, \\nCislunar, Lunar, Deep \\nSpace \\nUnder Development Yes \\nCesiumAstro USA 4,500 <0.1°/<0.01° S, L, Ku, Ka, \\nOptical LEO Under Development Yes \\nEnduroSat Bulgaria 170 0.1°/<0.05° UHF, S, X, K LEO Under Development Yes \\nGeneral Atomics EMS USA 450 0.03°/0.02° S, X LEO Qualified LEO Yes \\nHemeria France 250 <0.03°/<0.01° S, X LEO, GEO, GTO Flown LEO \\nQualified GEO and GTO No \\nLeoStella USA 2,000 0.013°/0.009° UHF, S, X LEO Flown LEO Yes \\nLockheed Martin USA 500+ <0.1°/<0.1° S, X, Ka LEO, GEO, Lunar, \\nDeep Space Flown LEO Yes'),\n",
       "  Document(metadata={'page': 66, 'source': './pdf_documents\\\\state of the art small spacecraft.pdf'}, page_content='National Aeronautics and Space Administration \\nTable 3-9: Power Management and Distribution System Products \\nCompany Product Mass \\n(kg) \\nVolume \\n(cm3) \\nPeak Power \\nOutput (W) \\nInput\\nVoltages \\n(VDC) \\nOutput Voltages\\n(VDC) \\nMax \\nEfficiency\\n(%) \\nTRL Ref \\nAAC Clyde Space\\nSweden \\nStarbuck Micro 2.45 3968 120 28 28 / 5 97 9 (72) \\nStarbuck Mini 5.90 13133 1200 * 22-34 / 5 / 8/ 12 /\\n15 * 9 (73) \\nStarbuck Nano 0.086 140 * * 3.3 / 5/ 12 * 9 (74) \\nArgotec Italy \\nPCDU VOLTA 0.97 600 100 18-22\\n1x 3.3V, 1x 5V \\nand \\n2x 12V \\n75 9 (94) \\nPCDU ZEUS 0,5 500 136 (reg.) \\n400 (unreg.) 10-24\\n4x12 V \\n4x 5 V \\n8x 28 ± 6 V \\n80 5 (94) \\nBerlin Space \\nTechnologies Germany PCU-110 0.960 1191 * 20-25 3.3 / 5/ 12 / 24 / \\n1.8-28 * 9 (83) \\nBradford Space, Inc.\\nUSA \\nSuperNova \\nmodular PCDU \\n(1500W config) \\n2.9 3045 1500 22 - 34 3.3 / 5 / 12 / \\nunreg. batt 95 8 \\nC3S Electronics \\nDevelopment LLC\\nBudapest \\nEPS1000 ~0.860 ~731 90 6…25V \\n6ch SA \\n3.3V, 5V, \\n9.9…12.3V 90% 9 \\nDHV Technologies\\nSpain \\nMicroEPS \\n0.285-\\n1.135 \\n(+0.170 \\n⁑) \\n392-1045\\n592 \\nin \\neclipse/ 693 \\nin sunlight \\n10-40\\n( X/Y) / 9-\\n28 Z \\n3.3 / 5/ 12 / Batt 93 5 \\nNanoEPS \\n0.155-\\n0.402 \\n(+0.109 \\n⁑) \\n283-600\\n59 in eclipse/ \\n124 in \\nsunlight \\n9-28 (X/Y)\\n/ \\n3-18 (Z) 3.\\n3 / 5/ 12 / Batt 93 9 \\nPicoEPS \\n0.110-\\n0.190 \\n(+0.1⁑) 140-197 29 in eclipse/ \\n74 in sunlight 3-18 3. 3 / 5/ 12 / Batt 93 8 \\nEcarver GmBH Germany PCU-SB7 1.500 1800 250 0-24 0-24 85 N/A (82) \\nEnduroSat Bulgaria EPS I 0.208 183 10-20 0-5.5 3.3 / 5 / Batt 86 9 (79) \\nEPS I Plus 0.292 259 30 0-5.5 3.3 / 5 / Batt 86 9 (80) \\n51'),\n",
       "  Document(metadata={'page': 66, 'source': './pdf_documents\\\\state of the art small spacecraft.pdf'}, page_content='National Aeronautics and Space Administration \\nTable 3-9: Power Management and Distribution System Products \\nCompany Product Mass \\n(kg) \\nVolume \\n(cm3) \\nPeak Power \\nOutput (W) \\nInput\\nVoltages \\n(VDC) \\nOutput Voltages\\n(VDC) \\nMax \\nEfficiency\\n(%) \\nTRL Ref \\nAAC Clyde Space\\nSweden \\nStarbuck Micro 2.45 3968 120 28 28 / 5 97 9 (72) \\nStarbuck Mini 5.90 13133 1200 * 22-34 / 5 / 8/ 12 /\\n15 * 9 (73) \\nStarbuck Nano 0.086 140 * * 3.3 / 5/ 12 * 9 (74) \\nArgotec Italy \\nPCDU VOLTA 0.97 600 100 18-22\\n1x 3.3V, 1x 5V \\nand \\n2x 12V \\n75 9 (94) \\nPCDU ZEUS 0,5 500 136 (reg.) \\n400 (unreg.) 10-24\\n4x12 V \\n4x 5 V \\n8x 28 ± 6 V \\n80 5 (94) \\nBerlin Space \\nTechnologies Germany PCU-110 0.960 1191 * 20-25 3.3 / 5/ 12 / 24 / \\n1.8-28 * 9 (83) \\nBradford Space, Inc.\\nUSA \\nSuperNova \\nmodular PCDU \\n(1500W config) \\n2.9 3045 1500 22 - 34 3.3 / 5 / 12 / \\nunreg. batt 95 8 \\nC3S Electronics \\nDevelopment LLC\\nBudapest \\nEPS1000 ~0.860 ~731 90 6…25V \\n6ch SA \\n3.3V, 5V, \\n9.9…12.3V 90% 9 \\nDHV Technologies\\nSpain \\nMicroEPS \\n0.285-\\n1.135 \\n(+0.170 \\n⁑) \\n392-1045\\n592 \\nin \\neclipse/ 693 \\nin sunlight \\n10-40\\n( X/Y) / 9-\\n28 Z \\n3.3 / 5/ 12 / Batt 93 5 \\nNanoEPS \\n0.155-\\n0.402 \\n(+0.109 \\n⁑) \\n283-600\\n59 in eclipse/ \\n124 in \\nsunlight \\n9-28 (X/Y)\\n/ \\n3-18 (Z) 3.\\n3 / 5/ 12 / Batt 93 9 \\nPicoEPS \\n0.110-\\n0.190 \\n(+0.1⁑) 140-197 29 in eclipse/ \\n74 in sunlight 3-18 3. 3 / 5/ 12 / Batt 93 8 \\nEcarver GmBH Germany PCU-SB7 1.500 1800 250 0-24 0-24 85 N/A (82) \\nEnduroSat Bulgaria EPS I 0.208 183 10-20 0-5.5 3.3 / 5 / Batt 86 9 (79) \\nEPS I Plus 0.292 259 30 0-5.5 3.3 / 5 / Batt 86 9 (80) \\n51'),\n",
       "  Document(metadata={'page': 33, 'source': './pdf_documents\\\\state of the art small spacecraft.pdf'}, page_content='National Aeronautics and Space Administration \\nTable 2-7: 16U+ Market Solutions \\n(The fields indicate maximum capability, organizations may offer multiple options including smaller capabilities within the 16U+ category) \\nOrganization Format Peak \\nPower (W) \\n3-σ Pointing \\nControl/ \\nKnowledge \\nComm Options Intended \\nDestination Maturity US \\nOffice \\nAAC Clyde Space Sweden 16U 400 <0.01°/<0.0075° VHF, UHF, S, X, K, \\nKa, Ku, Optical LEO Qualified LEO Yes \\nArgotec Italy 16U+ 250 <0.07°/<0.03° UHF, S, X, K GEO, Lunar, Mars, \\nDeep Space Under Development Yes \\nArtemis Space Technologies UK 16U 200 0.01°/0.01° UHF, S, X, Ka, Ku, \\nOptical \\nLEO, MEO, GEO, \\nLunar, Deep Space \\nFlown LEO \\nQualified GEO, MEO, \\nLunar, and Deep Space \\nNo \\nAstro Digital USA 16U+ 500 <0.05°/<0.01° UHF, S, X, Ku, Ka, \\nV, W, Optical LEO Flown LEO Yes \\nBlue Canyon Technologies USA 16U 108 0.0025°/0.0025° L, S, X LEO, GEO, Deep \\nSpace \\nQualified LEO, GEO and \\nDeep Space Yes \\nC3S Electronics Hungary 16U+ 165 <0.2°/<0.2° UHF, S LEO, MEO Under Development No \\nEnduroSat Bulgaria 16U 80 0.1°/0.05° UHF, S, X, K LEO Qualified LEO Yes \\nGerman Orbital Systems Germany 16U 164 <1°/<1° UHF, S, X LEO Qualified LEO No \\nGomSpace Denmark 16U 150 0.07°/0.056° S, X LEO Qualified LEO Yes \\nHex20 Australia 27U 150 0.003°/0.003° UHF, S, X LEO, MEO, GEO, \\nLunar Flown LEO No \\nISISPACE The Netherlands 16U 190 <0.03°/<0.03° UHF, S, X, Ka LEO Under Development No \\nNanoAvionics Lithuania 16U 175 0.18°/0.09° UHF, S, X LEO Flown LEO Yes \\nNara Space Korea 16U 232 0.006°/0.006° S, X LEO Qualified LEO No \\nNPC SPACEMIND Italy 16U 120 <0.1°/<0.1° UHF, S, X, Ka LEO, MEO, GEO, \\nLunar Under Development No')]}"
      ]
     },
     "execution_count": 16,
     "metadata": {},
     "output_type": "execute_result"
    }
   ],
   "source": [
    "result"
   ]
  },
  {
   "cell_type": "code",
   "execution_count": 17,
   "metadata": {},
   "outputs": [
    {
     "name": "stdout",
     "output_type": "stream",
     "text": [
      "An ESPA-class satellite refers to a type of satellite that utilizes the Evolved Expendable Launch\n",
      "Vehicle (EELV) Secondary Payload Adapter (SPA) or similar configurations.  The ESPA ring, which is a\n",
      "key component of ESPA-class satellites, allows for the separation of the primary payload from the\n",
      "upper stage of the launch vehicle, enabling additional mounting allocations for secondary payloads.\n",
      "These secondary payloads can be mounted on the ESPA ring, providing opportunities for rideshare\n",
      "missions.  ESPA-class satellites are designed to accommodate secondary payloads with masses\n",
      "typically under 500 kg, although some variants of the ESPA ring can support higher masses.\n",
      "\n",
      "In terms\n",
      "of peak power range in watts, ESPA-class satellites have a variety of power outputs depending on the\n",
      "specific satellite.  The peak power output can range from as low as 80 watts to as high as 4,500\n",
      "watts.  Among the satellites listed in the provided information, the satellite with the highest peak\n",
      "power output is the CesiumAstro satellite from the United States, which has a peak power output of\n",
      "4,500 watts.\n",
      "\n",
      "**Report on ESPA-Class Satellites:**\n",
      "\n",
      "Title: Exploring ESPA-Class Satellites: A\n",
      "Comprehensive Overview\n",
      "\n",
      "Introduction:\n",
      "ESPAClass satellites represent a versatile category of\n",
      "satellites that leverage the Evolved Expendable Launch Vehicle (EELV) Secondary Payload Adapter\n",
      "(SPA) or similar configurations.  These satellites are designed to accommodate secondary payloads,\n",
      "providing opportunities for rideshare missions and enabling cost-effective access to space for\n",
      "smaller payloads.\n",
      "\n",
      "Key Features of ESPA-Class Satellites:\n",
      "1. ESPA Ring: The ESPA ring is a critical\n",
      "component of ESPA-class satellites, facilitating the separation of primary and secondary payloads.\n",
      "2. Secondary Payload Mounting: ESPA-class satellites allow for additional mounting allocations for\n",
      "secondary payloads, enhancing the flexibility of launch missions.\n",
      "3. Mass and Volume Adaptability:\n",
      "While ESPA-class satellites typically support secondary payloads under 500 kg, some variants can\n",
      "accommodate higher masses, making them adaptable to various rideshare opportunities.\n",
      "\n",
      "Peak Power\n",
      "Range and Notable Satellites:\n",
      "- The peak power output of ESPA-class satellites varies, ranging from\n",
      "80 watts to 4,500 watts.\n",
      "- Among the listed satellites, the CesiumAstro satellite from the United\n",
      "States stands out with a peak power output of 4,500 watts, showcasing its robust power capabilities.\n",
      "Conclusion:\n",
      "ESPAClass satellites play a crucial role in expanding access to space for secondary\n",
      "payloads and rideshare opportunities.  With their innovative design and adaptability, these\n",
      "satellites offer a cost-effective solution for launching smaller payloads into space.  The diverse\n",
      "range of power outputs and capabilities of ESPA-class satellites make them a valuable asset in the\n",
      "realm of satellite technology.\n",
      "\n",
      "This report provides an overview of ESPA-class satellites,\n",
      "highlighting their key features, peak power ranges, and notable satellites within this category.\n"
     ]
    }
   ],
   "source": [
    "import textwrap\n",
    "wrapped_text = textwrap.fill(result[\"result\"], width=100,replace_whitespace=False, break_on_hyphens=False, drop_whitespace=True, fix_sentence_endings=True)\n",
    "print(wrapped_text)"
   ]
  }
 ],
 "metadata": {
  "kernelspec": {
   "display_name": ".rager",
   "language": "python",
   "name": "python3"
  },
  "language_info": {
   "codemirror_mode": {
    "name": "ipython",
    "version": 3
   },
   "file_extension": ".py",
   "mimetype": "text/x-python",
   "name": "python",
   "nbconvert_exporter": "python",
   "pygments_lexer": "ipython3",
   "version": "3.12.7"
  }
 },
 "nbformat": 4,
 "nbformat_minor": 2
}
